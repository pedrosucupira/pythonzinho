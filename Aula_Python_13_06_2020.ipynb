{
  "nbformat": 4,
  "nbformat_minor": 0,
  "metadata": {
    "kernelspec": {
      "display_name": "Python 3",
      "language": "python",
      "name": "python3"
    },
    "language_info": {
      "codemirror_mode": {
        "name": "ipython",
        "version": 3
      },
      "file_extension": ".py",
      "mimetype": "text/x-python",
      "name": "python",
      "nbconvert_exporter": "python",
      "pygments_lexer": "ipython3",
      "version": "3.7.4"
    },
    "colab": {
      "name": "Aula Python 13_06_2020.ipynb",
      "provenance": []
    }
  },
  "cells": [
    {
      "cell_type": "markdown",
      "metadata": {
        "id": "Wtvou--RlrUI",
        "colab_type": "text"
      },
      "source": [
        "# Aula 13/06/2020 - Python\n",
        "### Prof. Rodrigo Sucupira / [sucupira.rodrigo@gmail.com](mailto:sucupira.rodrigo@gmail.com) \n",
        "\n",
        "## [GitHub Pythonzinho](https://github.com/rsucupira/Pythonzinho) / [www.pythonzinho.com.br](http://www.pythonzinho.com.br)"
      ]
    },
    {
      "cell_type": "markdown",
      "metadata": {
        "id": "izWSRVXclrUK",
        "colab_type": "text"
      },
      "source": [
        "- Aluno: (Pedro Sucupira) / (email do aluno)\n",
        "- [GitHub](https://github.com/pedrosucupira)"
      ]
    },
    {
      "cell_type": "markdown",
      "metadata": {
        "id": "b1EL-qWPlrUL",
        "colab_type": "text"
      },
      "source": [
        "### 01) Operações Básicas / Calculadora\n",
        "#### 01.1) Adição              (+)"
      ]
    },
    {
      "cell_type": "code",
      "metadata": {
        "id": "P7tfc_SNlrUM",
        "colab_type": "code",
        "colab": {
          "base_uri": "https://localhost:8080/",
          "height": 34
        },
        "outputId": "240fb976-0cd3-41dc-8251-053100284146"
      },
      "source": [
        "1+2"
      ],
      "execution_count": 2,
      "outputs": [
        {
          "output_type": "execute_result",
          "data": {
            "text/plain": [
              "3"
            ]
          },
          "metadata": {
            "tags": []
          },
          "execution_count": 2
        }
      ]
    },
    {
      "cell_type": "markdown",
      "metadata": {
        "id": "T9hDxjDxlrUS",
        "colab_type": "text"
      },
      "source": [
        "**Ex 01:** Na celula abaixo insira uma **adição** e depois clique no botão \"Run\":"
      ]
    },
    {
      "cell_type": "code",
      "metadata": {
        "id": "QmbFIVqhlrUT",
        "colab_type": "code",
        "colab": {
          "base_uri": "https://localhost:8080/",
          "height": 34
        },
        "outputId": "7e46c4b1-2b0a-4f40-c04b-34e05dbeeee6"
      },
      "source": [
        "8+7"
      ],
      "execution_count": 3,
      "outputs": [
        {
          "output_type": "execute_result",
          "data": {
            "text/plain": [
              "15"
            ]
          },
          "metadata": {
            "tags": []
          },
          "execution_count": 3
        }
      ]
    },
    {
      "cell_type": "markdown",
      "metadata": {
        "id": "g53U3L2klrUX",
        "colab_type": "text"
      },
      "source": [
        "#### 01.2) Subtração           (-)"
      ]
    },
    {
      "cell_type": "code",
      "metadata": {
        "id": "69bH4Z80lrUX",
        "colab_type": "code",
        "colab": {}
      },
      "source": [
        "5-2"
      ],
      "execution_count": null,
      "outputs": []
    },
    {
      "cell_type": "markdown",
      "metadata": {
        "id": "pxl8P88JlrUb",
        "colab_type": "text"
      },
      "source": [
        "**Ex 02:** Na celula abaixo insira uma **subtração** e depois clique no botão \"Run\":"
      ]
    },
    {
      "cell_type": "code",
      "metadata": {
        "id": "5focAe-mlrUc",
        "colab_type": "code",
        "colab": {
          "base_uri": "https://localhost:8080/",
          "height": 34
        },
        "outputId": "fc6a9a26-3467-4749-e1a2-0c0943167889"
      },
      "source": [
        "14-6"
      ],
      "execution_count": 4,
      "outputs": [
        {
          "output_type": "execute_result",
          "data": {
            "text/plain": [
              "8"
            ]
          },
          "metadata": {
            "tags": []
          },
          "execution_count": 4
        }
      ]
    },
    {
      "cell_type": "markdown",
      "metadata": {
        "id": "EhEXOClElrUh",
        "colab_type": "text"
      },
      "source": [
        "#### 01.3) Multiplicação       (*)"
      ]
    },
    {
      "cell_type": "code",
      "metadata": {
        "id": "a6KF8evYlrUh",
        "colab_type": "code",
        "colab": {}
      },
      "source": [
        "3*5"
      ],
      "execution_count": null,
      "outputs": []
    },
    {
      "cell_type": "markdown",
      "metadata": {
        "id": "CFQbO57slrUl",
        "colab_type": "text"
      },
      "source": [
        "**Ex 03:** Na celula abaixo insira uma **multiplicação** e depois clique no botão \"Run\":"
      ]
    },
    {
      "cell_type": "code",
      "metadata": {
        "id": "efgQu1d5lrUm",
        "colab_type": "code",
        "colab": {
          "base_uri": "https://localhost:8080/",
          "height": 34
        },
        "outputId": "4c8c994e-2a83-46e9-d556-b34a770e3669"
      },
      "source": [
        "8*7"
      ],
      "execution_count": 5,
      "outputs": [
        {
          "output_type": "execute_result",
          "data": {
            "text/plain": [
              "56"
            ]
          },
          "metadata": {
            "tags": []
          },
          "execution_count": 5
        }
      ]
    },
    {
      "cell_type": "markdown",
      "metadata": {
        "id": "cCXvWrbylrUq",
        "colab_type": "text"
      },
      "source": [
        "#### 01.4) Divisão             (/)"
      ]
    },
    {
      "cell_type": "code",
      "metadata": {
        "id": "49D0PtqRlrUr",
        "colab_type": "code",
        "colab": {}
      },
      "source": [
        "20/4"
      ],
      "execution_count": null,
      "outputs": []
    },
    {
      "cell_type": "markdown",
      "metadata": {
        "id": "NwzAgtVrlrUv",
        "colab_type": "text"
      },
      "source": [
        "**Ex 04:** Na celula abaixo insira uma **divisão** e depois clique no botão \"Run\":"
      ]
    },
    {
      "cell_type": "code",
      "metadata": {
        "id": "SQnWsx1AlrUv",
        "colab_type": "code",
        "colab": {
          "base_uri": "https://localhost:8080/",
          "height": 34
        },
        "outputId": "6aa66e58-093c-4b60-9285-bc4edab39bcc"
      },
      "source": [
        "42/7"
      ],
      "execution_count": 6,
      "outputs": [
        {
          "output_type": "execute_result",
          "data": {
            "text/plain": [
              "6.0"
            ]
          },
          "metadata": {
            "tags": []
          },
          "execution_count": 6
        }
      ]
    },
    {
      "cell_type": "markdown",
      "metadata": {
        "id": "EYIGfbD7lrUz",
        "colab_type": "text"
      },
      "source": [
        "#### 01.5) Potência            (**)"
      ]
    },
    {
      "cell_type": "code",
      "metadata": {
        "id": "gQ5XkWnslrU0",
        "colab_type": "code",
        "colab": {}
      },
      "source": [
        "2**3"
      ],
      "execution_count": null,
      "outputs": []
    },
    {
      "cell_type": "markdown",
      "metadata": {
        "id": "RR7Y-NqOlrU3",
        "colab_type": "text"
      },
      "source": [
        "**Ex 05:** Na celula abaixo insira uma operação **potência** e depois clique no botão \"Run\":"
      ]
    },
    {
      "cell_type": "code",
      "metadata": {
        "id": "hLBqvk71lrU4",
        "colab_type": "code",
        "colab": {
          "base_uri": "https://localhost:8080/",
          "height": 34
        },
        "outputId": "a072b822-1106-4135-c320-fae24451956c"
      },
      "source": [
        "3**3"
      ],
      "execution_count": 8,
      "outputs": [
        {
          "output_type": "execute_result",
          "data": {
            "text/plain": [
              "27"
            ]
          },
          "metadata": {
            "tags": []
          },
          "execution_count": 8
        }
      ]
    },
    {
      "cell_type": "markdown",
      "metadata": {
        "id": "6d1LzmSjlrU7",
        "colab_type": "text"
      },
      "source": [
        "#### 01.6) Resto               (%)"
      ]
    },
    {
      "cell_type": "code",
      "metadata": {
        "id": "qzMan0nAlrU8",
        "colab_type": "code",
        "colab": {}
      },
      "source": [
        "10%3"
      ],
      "execution_count": null,
      "outputs": []
    },
    {
      "cell_type": "markdown",
      "metadata": {
        "id": "hiaVoTjelrU_",
        "colab_type": "text"
      },
      "source": [
        "**Ex 06:** Na celula abaixo insira uma operação **resto** e depois clique no botão \"Run\":"
      ]
    },
    {
      "cell_type": "code",
      "metadata": {
        "id": "XpTe2xFjlrVA",
        "colab_type": "code",
        "colab": {
          "base_uri": "https://localhost:8080/",
          "height": 34
        },
        "outputId": "3eb997b0-1843-4db0-d8f4-a0b41d3bdab6"
      },
      "source": [
        "20%6"
      ],
      "execution_count": 9,
      "outputs": [
        {
          "output_type": "execute_result",
          "data": {
            "text/plain": [
              "2"
            ]
          },
          "metadata": {
            "tags": []
          },
          "execution_count": 9
        }
      ]
    },
    {
      "cell_type": "markdown",
      "metadata": {
        "id": "T2RltVEnlrVD",
        "colab_type": "text"
      },
      "source": [
        "#### 01.7) Comentário          (#)"
      ]
    },
    {
      "cell_type": "code",
      "metadata": {
        "id": "WQUu3ax_lrVF",
        "colab_type": "code",
        "colab": {}
      },
      "source": [
        "# Este é um comentário"
      ],
      "execution_count": null,
      "outputs": []
    },
    {
      "cell_type": "markdown",
      "metadata": {
        "id": "IFNUIO8MlrVJ",
        "colab_type": "text"
      },
      "source": [
        "Note que rodar este exemplo não retorna nenhum valor, por se tratar de um comentário"
      ]
    },
    {
      "cell_type": "markdown",
      "metadata": {
        "id": "YfyljKWPlrVJ",
        "colab_type": "text"
      },
      "source": [
        "**Ex 07:** Na celula abaixo insira um **comentário** e depois clique no botão \"Run\":"
      ]
    },
    {
      "cell_type": "code",
      "metadata": {
        "id": "Y8HZNbqdlrVK",
        "colab_type": "code",
        "colab": {}
      },
      "source": [
        "#hehehee"
      ],
      "execution_count": null,
      "outputs": []
    },
    {
      "cell_type": "markdown",
      "metadata": {
        "id": "PdCoqgUjlrVN",
        "colab_type": "text"
      },
      "source": [
        "## 02) Print\n",
        "A função `print` é normalmente utilizada para amostrar uma *string* (cadeia de caracteres):"
      ]
    },
    {
      "cell_type": "code",
      "metadata": {
        "id": "7ftXDR9NlrVO",
        "colab_type": "code",
        "colab": {}
      },
      "source": [
        "print(\"Olá Mundo\")"
      ],
      "execution_count": null,
      "outputs": []
    },
    {
      "cell_type": "markdown",
      "metadata": {
        "id": "u-lLXZoxlrVR",
        "colab_type": "text"
      },
      "source": [
        "#### Função:\n",
        "A ideia básica de uma função, é encapsular um código que poderá ser invocado/chamado por qualquer outro trecho do programa. Seu significado e uso é muito parecido com o de funções matemáticas, ou seja, existe um nome, uma definição e posterior invocação à função."
      ]
    },
    {
      "cell_type": "markdown",
      "metadata": {
        "id": "INZPXhY3lrVS",
        "colab_type": "text"
      },
      "source": [
        "**Ex 08:** escreva um código que amostra o seu nome e depois clique no botão \"Run\":"
      ]
    },
    {
      "cell_type": "code",
      "metadata": {
        "id": "iAfl1aixlrVS",
        "colab_type": "code",
        "colab": {
          "base_uri": "https://localhost:8080/",
          "height": 34
        },
        "outputId": "7048e12f-69fa-4314-84e7-15a5d5240fce"
      },
      "source": [
        "a='bom dia'\n",
        "print(a)"
      ],
      "execution_count": 14,
      "outputs": [
        {
          "output_type": "stream",
          "text": [
            "bom dia\n"
          ],
          "name": "stdout"
        }
      ]
    },
    {
      "cell_type": "markdown",
      "metadata": {
        "id": "Dzu6yPQOlrVV",
        "colab_type": "text"
      },
      "source": [
        "## 03) Variáveis\n",
        "Variáveis são **\"objetos\"** que você cria e armazena informação \n",
        "\n",
        "Voçê pode definir variáveis usando o símbolo igual (=):"
      ]
    },
    {
      "cell_type": "code",
      "metadata": {
        "id": "sNqG2D-slrVW",
        "colab_type": "code",
        "colab": {}
      },
      "source": [
        "x = 10\n",
        "print(x)"
      ],
      "execution_count": null,
      "outputs": []
    },
    {
      "cell_type": "markdown",
      "metadata": {
        "id": "ksAkG0YYlrVZ",
        "colab_type": "text"
      },
      "source": [
        "a variável criada acima é conhecida como **integer** que quer dizer numero inteiro"
      ]
    },
    {
      "cell_type": "code",
      "metadata": {
        "id": "zudp6uDslrVZ",
        "colab_type": "code",
        "colab": {
          "base_uri": "https://localhost:8080/",
          "height": 34
        },
        "outputId": "1d268a72-6918-40f3-d98e-f1c0e1da0bca"
      },
      "source": [
        "x=15\n",
        "print(x)"
      ],
      "execution_count": 15,
      "outputs": [
        {
          "output_type": "stream",
          "text": [
            "15\n"
          ],
          "name": "stdout"
        }
      ]
    },
    {
      "cell_type": "markdown",
      "metadata": {
        "id": "yek1CN4FlrVc",
        "colab_type": "text"
      },
      "source": [
        "reparem na celula acima que outra forma de amostrar alguma variável é colocar ela em uma celula e rodar"
      ]
    },
    {
      "cell_type": "code",
      "metadata": {
        "id": "vkQ70UyDlrVc",
        "colab_type": "code",
        "colab": {}
      },
      "source": [
        "texto = \"Olá mundo\"\n",
        "print(texto)"
      ],
      "execution_count": null,
      "outputs": []
    },
    {
      "cell_type": "markdown",
      "metadata": {
        "id": "TR90h1K5lrVf",
        "colab_type": "text"
      },
      "source": [
        "a variável criada acima é conhecida como **string** que significa texto ou cadeia de caracteres"
      ]
    },
    {
      "cell_type": "markdown",
      "metadata": {
        "id": "8A9Y8SfvlrVg",
        "colab_type": "text"
      },
      "source": [
        "**Ex 09:** escreva um código que armazena o seu nome em uma variável e depois amostra a variável criada."
      ]
    },
    {
      "cell_type": "code",
      "metadata": {
        "id": "2mU5z2V3lrVg",
        "colab_type": "code",
        "colab": {
          "base_uri": "https://localhost:8080/",
          "height": 34
        },
        "outputId": "829b8662-31cb-481e-8676-e19a98d3f83e"
      },
      "source": [
        "pedro='muito bonito'\n",
        "print(pedro)"
      ],
      "execution_count": 16,
      "outputs": [
        {
          "output_type": "stream",
          "text": [
            "muito bonito\n"
          ],
          "name": "stdout"
        }
      ]
    },
    {
      "cell_type": "markdown",
      "metadata": {
        "id": "TttPEUrqlrVk",
        "colab_type": "text"
      },
      "source": [
        "## 04) Tipos de variáveis\n",
        "Vamos apresentar as quatro principais variáveis que utilizamos em um código:\n",
        "- Integer\n",
        "- Float\n",
        "- String\n",
        "- Boolean\n",
        "\n",
        "### 04.1) Integer & Float\n",
        "para trabalhar com numeros temos dois tipos de variáveis, os numeros inteiros ou **integer** e os numeros reais ou **float**, "
      ]
    },
    {
      "cell_type": "code",
      "metadata": {
        "id": "NpZPbxmglrVl",
        "colab_type": "code",
        "colab": {
          "base_uri": "https://localhost:8080/",
          "height": 34
        },
        "outputId": "33019248-aee9-4178-d397-34dcb0215233"
      },
      "source": [
        "numero_01 = 1 # exemplo de inteiro\n",
        "numero_01"
      ],
      "execution_count": 17,
      "outputs": [
        {
          "output_type": "execute_result",
          "data": {
            "text/plain": [
              "1"
            ]
          },
          "metadata": {
            "tags": []
          },
          "execution_count": 17
        }
      ]
    },
    {
      "cell_type": "code",
      "metadata": {
        "id": "Eb1CiaPDlrVo",
        "colab_type": "code",
        "colab": {
          "base_uri": "https://localhost:8080/",
          "height": 34
        },
        "outputId": "4114ce39-3fd8-4651-f344-f4bbc4a85573"
      },
      "source": [
        "numero_02 = 1.0 # exemplo de float\n",
        "numero_02"
      ],
      "execution_count": 18,
      "outputs": [
        {
          "output_type": "execute_result",
          "data": {
            "text/plain": [
              "1.0"
            ]
          },
          "metadata": {
            "tags": []
          },
          "execution_count": 18
        }
      ]
    },
    {
      "cell_type": "markdown",
      "metadata": {
        "id": "sAXTfYN3lrVr",
        "colab_type": "text"
      },
      "source": [
        "reparem que ao colocar um ponto no final do numero automaticamente eu tranformo ele num número real."
      ]
    },
    {
      "cell_type": "code",
      "metadata": {
        "id": "Oh7zkU1ulrVr",
        "colab_type": "code",
        "colab": {
          "base_uri": "https://localhost:8080/",
          "height": 34
        },
        "outputId": "8c2487fd-69e6-4acd-b777-993bac047661"
      },
      "source": [
        "x = 3\n",
        "x"
      ],
      "execution_count": 44,
      "outputs": [
        {
          "output_type": "execute_result",
          "data": {
            "text/plain": [
              "3"
            ]
          },
          "metadata": {
            "tags": []
          },
          "execution_count": 44
        }
      ]
    },
    {
      "cell_type": "markdown",
      "metadata": {
        "id": "SizqC4x5lrVu",
        "colab_type": "text"
      },
      "source": [
        "### 04.2) Função int() e float()\n",
        "para tranformar uma variável em inteiro utilizamos a função **int()** e para transformar em um numero real utilizamos a função **float()**"
      ]
    },
    {
      "cell_type": "code",
      "metadata": {
        "id": "m6aplQ_ElrVu",
        "colab_type": "code",
        "colab": {}
      },
      "source": [
        "int(2.3)"
      ],
      "execution_count": null,
      "outputs": []
    },
    {
      "cell_type": "code",
      "metadata": {
        "id": "ExT3te_BlrVy",
        "colab_type": "code",
        "colab": {}
      },
      "source": [
        "int(\"olá\")"
      ],
      "execution_count": null,
      "outputs": []
    },
    {
      "cell_type": "code",
      "metadata": {
        "id": "xYoUiMYalrV1",
        "colab_type": "code",
        "colab": {}
      },
      "source": [
        "float(2)"
      ],
      "execution_count": null,
      "outputs": []
    },
    {
      "cell_type": "markdown",
      "metadata": {
        "id": "ZkaNLvV_lrV4",
        "colab_type": "text"
      },
      "source": [
        "reparem que observamos um erro ao tentar transformar uma cadeia de caracteres em um numero inteiro."
      ]
    },
    {
      "cell_type": "markdown",
      "metadata": {
        "id": "MMSsttUzlrV4",
        "colab_type": "text"
      },
      "source": [
        "### 04.2) Função type()\n",
        "para saber qual o tipo da variável utilizamos a função **type()** "
      ]
    },
    {
      "cell_type": "code",
      "metadata": {
        "id": "IS6BePYElrV5",
        "colab_type": "code",
        "colab": {}
      },
      "source": [
        "type(2)"
      ],
      "execution_count": null,
      "outputs": []
    },
    {
      "cell_type": "code",
      "metadata": {
        "id": "bxgiuPoOlrV7",
        "colab_type": "code",
        "colab": {}
      },
      "source": [
        "type(1.2)"
      ],
      "execution_count": null,
      "outputs": []
    },
    {
      "cell_type": "markdown",
      "metadata": {
        "id": "jcRkZNiclrV-",
        "colab_type": "text"
      },
      "source": [
        "**Ex 10:** escreva um código que armazena um numero real em uma variável e depois amostra o tipo da variável criada."
      ]
    },
    {
      "cell_type": "code",
      "metadata": {
        "id": "QqgnrdFRlrV-",
        "colab_type": "code",
        "colab": {
          "base_uri": "https://localhost:8080/",
          "height": 34
        },
        "outputId": "b9124d85-bdcc-4a20-f164-6c8606af9d5d"
      },
      "source": [
        "x=3\n",
        "type(x)"
      ],
      "execution_count": 46,
      "outputs": [
        {
          "output_type": "execute_result",
          "data": {
            "text/plain": [
              "int"
            ]
          },
          "metadata": {
            "tags": []
          },
          "execution_count": 46
        }
      ]
    },
    {
      "cell_type": "markdown",
      "metadata": {
        "id": "O4CwLRMJlrWB",
        "colab_type": "text"
      },
      "source": [
        "### 04.3) Strings\n",
        "O tipo de variável que utilizamos para trabalhar com texto é conhecida como **string**."
      ]
    },
    {
      "cell_type": "markdown",
      "metadata": {
        "id": "GjXrSX2IlrWC",
        "colab_type": "text"
      },
      "source": [
        "**Ex 11:** escreva um código que armazena um texto em uma variável, depois amostra o tipo da variável criada."
      ]
    },
    {
      "cell_type": "code",
      "metadata": {
        "id": "KfmdmBmWlrWC",
        "colab_type": "code",
        "colab": {
          "base_uri": "https://localhost:8080/",
          "height": 34
        },
        "outputId": "b71636e7-5cda-4d37-994f-adfb98d26412"
      },
      "source": [
        "x='tititininha'\n",
        "type(x)"
      ],
      "execution_count": 48,
      "outputs": [
        {
          "output_type": "execute_result",
          "data": {
            "text/plain": [
              "str"
            ]
          },
          "metadata": {
            "tags": []
          },
          "execution_count": 48
        }
      ]
    },
    {
      "cell_type": "markdown",
      "metadata": {
        "id": "UJmucXP0lrWF",
        "colab_type": "text"
      },
      "source": [
        "### 04.4) Função str()\n",
        "para converter uma variável em **string** utilizamos a função **str()** "
      ]
    },
    {
      "cell_type": "code",
      "metadata": {
        "id": "vgYvxWqolrWF",
        "colab_type": "code",
        "colab": {
          "base_uri": "https://localhost:8080/",
          "height": 34
        },
        "outputId": "d522c161-2312-45c9-e438-e4bfaee3d5ae"
      },
      "source": [
        "x = 1\n",
        "type(x)"
      ],
      "execution_count": 49,
      "outputs": [
        {
          "output_type": "execute_result",
          "data": {
            "text/plain": [
              "int"
            ]
          },
          "metadata": {
            "tags": []
          },
          "execution_count": 49
        }
      ]
    },
    {
      "cell_type": "code",
      "metadata": {
        "id": "QuMPg7qBlrWJ",
        "colab_type": "code",
        "colab": {
          "base_uri": "https://localhost:8080/",
          "height": 34
        },
        "outputId": "f18c7fa3-432b-4edc-940a-03e901e03780"
      },
      "source": [
        "y = str(x)\n",
        "type(y)"
      ],
      "execution_count": 50,
      "outputs": [
        {
          "output_type": "execute_result",
          "data": {
            "text/plain": [
              "str"
            ]
          },
          "metadata": {
            "tags": []
          },
          "execution_count": 50
        }
      ]
    },
    {
      "cell_type": "markdown",
      "metadata": {
        "id": "vMcdabFTlrWL",
        "colab_type": "text"
      },
      "source": [
        "**Ex 12:** escreva um código que armazena um **float** ou numero real em uma variável e depois converte em uma **string** ou texto."
      ]
    },
    {
      "cell_type": "code",
      "metadata": {
        "id": "oUNtMvDhlrWL",
        "colab_type": "code",
        "colab": {
          "base_uri": "https://localhost:8080/",
          "height": 34
        },
        "outputId": "f4c512d6-08fe-4ff7-e64b-c8679ba5f4cd"
      },
      "source": [
        "x=24\n",
        "str(x)"
      ],
      "execution_count": 57,
      "outputs": [
        {
          "output_type": "execute_result",
          "data": {
            "text/plain": [
              "'24'"
            ]
          },
          "metadata": {
            "tags": []
          },
          "execution_count": 57
        }
      ]
    },
    {
      "cell_type": "markdown",
      "metadata": {
        "id": "_eUse5iIlrWO",
        "colab_type": "text"
      },
      "source": [
        "### 04.5) Trabalhando com strings\n",
        "#### 04.5.1) Concatenar +"
      ]
    },
    {
      "cell_type": "code",
      "metadata": {
        "id": "Kb9lCXQ0lrWO",
        "colab_type": "code",
        "colab": {
          "base_uri": "https://localhost:8080/",
          "height": 34
        },
        "outputId": "5e9a56cf-95cc-46e1-e2a4-e7e5e743811a"
      },
      "source": [
        "'a' + 'b'"
      ],
      "execution_count": 58,
      "outputs": [
        {
          "output_type": "execute_result",
          "data": {
            "text/plain": [
              "'ab'"
            ]
          },
          "metadata": {
            "tags": []
          },
          "execution_count": 58
        }
      ]
    },
    {
      "cell_type": "markdown",
      "metadata": {
        "id": "MYMwfuS_lrWS",
        "colab_type": "text"
      },
      "source": [
        "**Ex 13:** escreva um código que armazena o seu primeiro nome em uma variável e o seu sobrenome em outra variável e depois amostra o seu nome concatenado com o seu sobrenome, contendo um espaço entre eles, armazenando em uma terceira variável."
      ]
    },
    {
      "cell_type": "code",
      "metadata": {
        "id": "ZExgPJX4lrWT",
        "colab_type": "code",
        "colab": {
          "base_uri": "https://localhost:8080/",
          "height": 34
        },
        "outputId": "4aab0e96-ca10-425e-d430-daf5dfd1aeb8"
      },
      "source": [
        "a='pedro '\n",
        "b='sucupira'\n",
        "c=a+b\n",
        "c"
      ],
      "execution_count": 63,
      "outputs": [
        {
          "output_type": "execute_result",
          "data": {
            "text/plain": [
              "'pedro sucupira'"
            ]
          },
          "metadata": {
            "tags": []
          },
          "execution_count": 63
        }
      ]
    },
    {
      "cell_type": "markdown",
      "metadata": {
        "id": "o5laelWMlrWX",
        "colab_type": "text"
      },
      "source": [
        "#### 04.5.2) Tamanho len()"
      ]
    },
    {
      "cell_type": "code",
      "metadata": {
        "id": "itG83f0MlrWZ",
        "colab_type": "code",
        "colab": {}
      },
      "source": [
        "len('abc')"
      ],
      "execution_count": null,
      "outputs": []
    },
    {
      "cell_type": "markdown",
      "metadata": {
        "id": "U-FYIi0UlrWd",
        "colab_type": "text"
      },
      "source": [
        "**Ex 14:** escreva um código que amostra o tamanho do texto gerano no **Ex 13**."
      ]
    },
    {
      "cell_type": "code",
      "metadata": {
        "id": "bWtxhNbZlrWf",
        "colab_type": "code",
        "colab": {
          "base_uri": "https://localhost:8080/",
          "height": 34
        },
        "outputId": "8aa135ce-6a5b-49d3-cc0d-d33511dae427"
      },
      "source": [
        "len(a+b)"
      ],
      "execution_count": 65,
      "outputs": [
        {
          "output_type": "execute_result",
          "data": {
            "text/plain": [
              "14"
            ]
          },
          "metadata": {
            "tags": []
          },
          "execution_count": 65
        }
      ]
    },
    {
      "cell_type": "markdown",
      "metadata": {
        "id": "WeyLcA-klrWh",
        "colab_type": "text"
      },
      "source": [
        "#### 04.5.3) Posição []"
      ]
    },
    {
      "cell_type": "code",
      "metadata": {
        "id": "YShcu9dRlrWi",
        "colab_type": "code",
        "colab": {}
      },
      "source": [
        "texto = 'AaBbCcDdEe'\n",
        "texto[0]"
      ],
      "execution_count": null,
      "outputs": []
    },
    {
      "cell_type": "code",
      "metadata": {
        "id": "e-Q7mplflrWl",
        "colab_type": "code",
        "colab": {
          "base_uri": "https://localhost:8080/",
          "height": 34
        },
        "outputId": "97769be1-c677-4a7a-ffac-f6cd620bb56d"
      },
      "source": [
        "texto[2:4]"
      ],
      "execution_count": 68,
      "outputs": [
        {
          "output_type": "execute_result",
          "data": {
            "text/plain": [
              "'dr'"
            ]
          },
          "metadata": {
            "tags": []
          },
          "execution_count": 68
        }
      ]
    },
    {
      "cell_type": "markdown",
      "metadata": {
        "id": "8-J3jH-XlrWn",
        "colab_type": "text"
      },
      "source": [
        "**Ex 15:** escreva um código que amostra um intervalo qualquer de tamanho 3 do texto gerado no **Ex 13**."
      ]
    },
    {
      "cell_type": "code",
      "metadata": {
        "id": "RU3FnD5ulrWo",
        "colab_type": "code",
        "colab": {
          "base_uri": "https://localhost:8080/",
          "height": 34
        },
        "outputId": "ce1f86db-e339-4092-8a03-72d59aea8406"
      },
      "source": [
        "texto= a+b\n",
        "texto[2]\n",
        "cat=2\n",
        "cat/2"
      ],
      "execution_count": 70,
      "outputs": [
        {
          "output_type": "execute_result",
          "data": {
            "text/plain": [
              "1.0"
            ]
          },
          "metadata": {
            "tags": []
          },
          "execution_count": 70
        }
      ]
    },
    {
      "cell_type": "markdown",
      "metadata": {
        "id": "UW_3vFhBlrWq",
        "colab_type": "text"
      },
      "source": [
        "#### 04.5.4) Substituir .replace()"
      ]
    },
    {
      "cell_type": "code",
      "metadata": {
        "id": "KWVmMc6ulrWr",
        "colab_type": "code",
        "colab": {}
      },
      "source": [
        "texto.replace('c','j')"
      ],
      "execution_count": null,
      "outputs": []
    },
    {
      "cell_type": "markdown",
      "metadata": {
        "id": "qxD2ao81lrWt",
        "colab_type": "text"
      },
      "source": [
        "**Ex 16:** escreva um código que utilize o texto gerado no **Ex 13**, substituindo o seu sobrenome por outro texto."
      ]
    },
    {
      "cell_type": "code",
      "metadata": {
        "id": "yDE7T5i1lrWt",
        "colab_type": "code",
        "colab": {
          "base_uri": "https://localhost:8080/",
          "height": 34
        },
        "outputId": "7c0362f6-a6c7-4b72-c637-9d118c81ea6b"
      },
      "source": [
        "texto.replace('d','r')"
      ],
      "execution_count": 71,
      "outputs": [
        {
          "output_type": "execute_result",
          "data": {
            "text/plain": [
              "'perro sucupira'"
            ]
          },
          "metadata": {
            "tags": []
          },
          "execution_count": 71
        }
      ]
    },
    {
      "cell_type": "markdown",
      "metadata": {
        "id": "c709NXL4lrWv",
        "colab_type": "text"
      },
      "source": [
        "#### 04.5.5) Encontrar .find()"
      ]
    },
    {
      "cell_type": "code",
      "metadata": {
        "id": "Jx-Vn4U1lrWw",
        "colab_type": "code",
        "colab": {
          "base_uri": "https://localhost:8080/",
          "height": 34
        },
        "outputId": "4a2b0673-b224-45a0-c71d-718a285b7796"
      },
      "source": [
        "texto.find('b')"
      ],
      "execution_count": 75,
      "outputs": [
        {
          "output_type": "execute_result",
          "data": {
            "text/plain": [
              "6"
            ]
          },
          "metadata": {
            "tags": []
          },
          "execution_count": 75
        }
      ]
    },
    {
      "cell_type": "markdown",
      "metadata": {
        "id": "GB_qgZJhlrWz",
        "colab_type": "text"
      },
      "source": [
        "**Ex 17:** escreva um código que utilize o texto gerado no **Ex 13**, buscando a localização do espaço \" \" ."
      ]
    },
    {
      "cell_type": "code",
      "metadata": {
        "id": "OpyKMXhflrWz",
        "colab_type": "code",
        "colab": {
          "base_uri": "https://localhost:8080/",
          "height": 34
        },
        "outputId": "b17ac6ad-8bd6-4dab-cc7e-5fb77a8c2b1f"
      },
      "source": [
        "texto.find('s')"
      ],
      "execution_count": 72,
      "outputs": [
        {
          "output_type": "execute_result",
          "data": {
            "text/plain": [
              "6"
            ]
          },
          "metadata": {
            "tags": []
          },
          "execution_count": 72
        }
      ]
    },
    {
      "cell_type": "markdown",
      "metadata": {
        "id": "tdS5F1qdlrW4",
        "colab_type": "text"
      },
      "source": [
        "#### 04.5.6) Contar .count()"
      ]
    },
    {
      "cell_type": "code",
      "metadata": {
        "id": "9hOjq8h9lrW4",
        "colab_type": "code",
        "colab": {}
      },
      "source": [
        "texto.count('A')"
      ],
      "execution_count": null,
      "outputs": []
    },
    {
      "cell_type": "markdown",
      "metadata": {
        "id": "V1SOUMkKlrW8",
        "colab_type": "text"
      },
      "source": [
        "**Ex 18:** escreva um código que utilize o texto gerado no **Ex 13**, contando quantos caracteres tem nele."
      ]
    },
    {
      "cell_type": "code",
      "metadata": {
        "id": "irlqFULOlrW9",
        "colab_type": "code",
        "colab": {
          "base_uri": "https://localhost:8080/",
          "height": 34
        },
        "outputId": "4426112e-d8d2-412c-86b6-6fbbe02b5cc6"
      },
      "source": [
        "a= 'pedrrrro'\n",
        "a.count('r')"
      ],
      "execution_count": 89,
      "outputs": [
        {
          "output_type": "execute_result",
          "data": {
            "text/plain": [
              "4"
            ]
          },
          "metadata": {
            "tags": []
          },
          "execution_count": 89
        }
      ]
    },
    {
      "cell_type": "markdown",
      "metadata": {
        "id": "cfeDA7QMlrXB",
        "colab_type": "text"
      },
      "source": [
        "#### 04.5.7) MAIÚSCULO .upper()"
      ]
    },
    {
      "cell_type": "code",
      "metadata": {
        "id": "qfmZ0dCElrXC",
        "colab_type": "code",
        "colab": {}
      },
      "source": [
        "texto.upper()"
      ],
      "execution_count": null,
      "outputs": []
    },
    {
      "cell_type": "markdown",
      "metadata": {
        "id": "805X-6CQlrXI",
        "colab_type": "text"
      },
      "source": [
        "**Ex 19:** escreva um código que utilize o texto gerado no **Ex 13**, transformando tudo em maiúculo."
      ]
    },
    {
      "cell_type": "code",
      "metadata": {
        "id": "5ZkJqGp5lrXJ",
        "colab_type": "code",
        "colab": {}
      },
      "source": [
        "texto=texto.upper()"
      ],
      "execution_count": 94,
      "outputs": []
    },
    {
      "cell_type": "markdown",
      "metadata": {
        "id": "CvFzSXVKlrXL",
        "colab_type": "text"
      },
      "source": [
        "#### 04.5.8) minúsculo .lower()"
      ]
    },
    {
      "cell_type": "code",
      "metadata": {
        "id": "hP5k2F0PlrXL",
        "colab_type": "code",
        "colab": {}
      },
      "source": [
        "texto.lower()"
      ],
      "execution_count": null,
      "outputs": []
    },
    {
      "cell_type": "markdown",
      "metadata": {
        "id": "eWNTEdOhlrXO",
        "colab_type": "text"
      },
      "source": [
        "**Ex 20:** escreva um código que utilize o texto gerado no **Ex 13**, transformando tudo em minúsculo."
      ]
    },
    {
      "cell_type": "code",
      "metadata": {
        "id": "l6WktG9ulrXO",
        "colab_type": "code",
        "colab": {
          "base_uri": "https://localhost:8080/",
          "height": 34
        },
        "outputId": "801c0fff-885c-41a5-bf16-a031d2f4b64a"
      },
      "source": [
        "texto.lower()"
      ],
      "execution_count": 96,
      "outputs": [
        {
          "output_type": "execute_result",
          "data": {
            "text/plain": [
              "'pedrrrro'"
            ]
          },
          "metadata": {
            "tags": []
          },
          "execution_count": 96
        }
      ]
    },
    {
      "cell_type": "markdown",
      "metadata": {
        "id": "dZ7hL23ylrXS",
        "colab_type": "text"
      },
      "source": [
        "#### 04.5.9) Capitalizar .capitalize()"
      ]
    },
    {
      "cell_type": "code",
      "metadata": {
        "id": "PxqicgNPlrXS",
        "colab_type": "code",
        "colab": {}
      },
      "source": [
        "texto.capitalize()"
      ],
      "execution_count": null,
      "outputs": []
    },
    {
      "cell_type": "markdown",
      "metadata": {
        "id": "LdD1IZPglrXU",
        "colab_type": "text"
      },
      "source": [
        "**Ex 21:** escreva um código que utilize o texto gerado no **Ex 13**, capitalizando."
      ]
    },
    {
      "cell_type": "code",
      "metadata": {
        "id": "zjCJWYbZlrXU",
        "colab_type": "code",
        "colab": {
          "base_uri": "https://localhost:8080/",
          "height": 34
        },
        "outputId": "a59eb8f9-fce9-4f0e-fb57-f19bb2e61f66"
      },
      "source": [
        "texto= a+b\n",
        "texto.capitalize()"
      ],
      "execution_count": 107,
      "outputs": [
        {
          "output_type": "execute_result",
          "data": {
            "text/plain": [
              "'Pedrrrro sucupira'"
            ]
          },
          "metadata": {
            "tags": []
          },
          "execution_count": 107
        }
      ]
    },
    {
      "cell_type": "markdown",
      "metadata": {
        "id": "NEFMvzlJlrXX",
        "colab_type": "text"
      },
      "source": [
        "### 04.6) Booleano\n",
        "Para trabalhar com lógicas, verdadeiro e falso, utilizamos as variáveis booleanas"
      ]
    },
    {
      "cell_type": "code",
      "metadata": {
        "id": "TTh2yXYIlrXX",
        "colab_type": "code",
        "colab": {}
      },
      "source": [
        "x = True\n",
        "print(x)"
      ],
      "execution_count": null,
      "outputs": []
    },
    {
      "cell_type": "markdown",
      "metadata": {
        "id": "8P4Bo_-ClrXZ",
        "colab_type": "text"
      },
      "source": [
        "**Ex 22:** Verifique qual é o tipo da variável **x**."
      ]
    },
    {
      "cell_type": "code",
      "metadata": {
        "id": "cFU4j7MVlrXa",
        "colab_type": "code",
        "colab": {}
      },
      "source": [
        ""
      ],
      "execution_count": null,
      "outputs": []
    },
    {
      "cell_type": "code",
      "metadata": {
        "id": "3HKWPlD5lrXc",
        "colab_type": "code",
        "colab": {}
      },
      "source": [
        "1 > 2"
      ],
      "execution_count": null,
      "outputs": []
    },
    {
      "cell_type": "code",
      "metadata": {
        "id": "zSdSD38DlrXf",
        "colab_type": "code",
        "colab": {}
      },
      "source": [
        "x = 1\n",
        "x == 2"
      ],
      "execution_count": null,
      "outputs": []
    },
    {
      "cell_type": "code",
      "metadata": {
        "id": "G5NP8uYslrXg",
        "colab_type": "code",
        "colab": {}
      },
      "source": [
        "x == 1"
      ],
      "execution_count": null,
      "outputs": []
    },
    {
      "cell_type": "code",
      "metadata": {
        "id": "vaEsU4jZlrXi",
        "colab_type": "code",
        "colab": {}
      },
      "source": [
        "y = x == 1\n",
        "print(y)"
      ],
      "execution_count": null,
      "outputs": []
    },
    {
      "cell_type": "markdown",
      "metadata": {
        "id": "XhycLMSVlrXk",
        "colab_type": "text"
      },
      "source": [
        "**Ex 23:** Escreva um código que verifica se um número é igual ao mesmo número somado com 1."
      ]
    },
    {
      "cell_type": "code",
      "metadata": {
        "id": "_q6FqOQPlrXk",
        "colab_type": "code",
        "colab": {}
      },
      "source": [
        ""
      ],
      "execution_count": null,
      "outputs": []
    },
    {
      "cell_type": "markdown",
      "metadata": {
        "id": "C7njZdXrlrXm",
        "colab_type": "text"
      },
      "source": [
        "#### 04.6.1) Contém  => in"
      ]
    },
    {
      "cell_type": "code",
      "metadata": {
        "id": "dnaMO-7blrXm",
        "colab_type": "code",
        "colab": {}
      },
      "source": [
        "'a' in texto"
      ],
      "execution_count": null,
      "outputs": []
    },
    {
      "cell_type": "markdown",
      "metadata": {
        "id": "-PPPpb4WlrXq",
        "colab_type": "text"
      },
      "source": [
        "**Ex 24:** Escreva um código que verifica se a letra \"j\" contem no texto."
      ]
    },
    {
      "cell_type": "code",
      "metadata": {
        "id": "-C7XIu5HlrXq",
        "colab_type": "code",
        "colab": {}
      },
      "source": [
        ""
      ],
      "execution_count": null,
      "outputs": []
    },
    {
      "cell_type": "markdown",
      "metadata": {
        "id": "WlC2Lu4klrXu",
        "colab_type": "text"
      },
      "source": [
        "## 05) Input\n",
        "Muitas vezes um código precisa de informações externas, como uma calculadora que pode receber sempre numeros diferentes. Para criar esta flexibilidade, utilizamos a função **input**, que traduzindo significa **entrada**."
      ]
    },
    {
      "cell_type": "code",
      "metadata": {
        "id": "IMR8SpEflrXv",
        "colab_type": "code",
        "colab": {}
      },
      "source": [
        "texto_02 = input(\"insira um texto: \")\n",
        "print(texto_02)"
      ],
      "execution_count": null,
      "outputs": []
    },
    {
      "cell_type": "code",
      "metadata": {
        "id": "vWv-HqimlrXw",
        "colab_type": "code",
        "colab": {}
      },
      "source": [
        ""
      ],
      "execution_count": null,
      "outputs": []
    },
    {
      "cell_type": "markdown",
      "metadata": {
        "id": "st6zgawulrXy",
        "colab_type": "text"
      },
      "source": [
        "Atenção: todos os valores que a função **input** recebe são do tipo **string**, caso deseje trabalhar com numeros, deverá converter.\n",
        "Utilize o código abaixo para testar uma entrada de um numero somado com 1."
      ]
    },
    {
      "cell_type": "code",
      "metadata": {
        "id": "oMscPK2FlrXz",
        "colab_type": "code",
        "colab": {}
      },
      "source": [
        "numero = input(\"insira um numero: \")\n",
        "numero = numero + 1"
      ],
      "execution_count": null,
      "outputs": []
    },
    {
      "cell_type": "markdown",
      "metadata": {
        "id": "9NsWEAsMlrX1",
        "colab_type": "text"
      },
      "source": [
        "O código acima irá apresentar um erro, pois não é possivel somar um **integer** com uma **string**"
      ]
    },
    {
      "cell_type": "markdown",
      "metadata": {
        "id": "LumQ3fIxlrX2",
        "colab_type": "text"
      },
      "source": [
        "**Ex 25:** escreva um código que armazena um **input** em uma variável, converte ele em um numero real e por fim amostra ele."
      ]
    },
    {
      "cell_type": "code",
      "metadata": {
        "id": "bCvLUx_ilrX2",
        "colab_type": "code",
        "colab": {}
      },
      "source": [
        ""
      ],
      "execution_count": null,
      "outputs": []
    },
    {
      "cell_type": "markdown",
      "metadata": {
        "id": "LpUpZQW_lrX5",
        "colab_type": "text"
      },
      "source": [
        "**Ex 26:** Ajude a sua mãe na feira, escreva um código que:\n",
        "- recebe um input de quantidade de laranjas.\n",
        "- recebe um input de preço da laranja.\n",
        "- calcula o custo total.\n",
        "obs: deve aceitar valores reais e não inteiros."
      ]
    },
    {
      "cell_type": "code",
      "metadata": {
        "id": "kHsMfrHflrX5",
        "colab_type": "code",
        "colab": {}
      },
      "source": [
        ""
      ],
      "execution_count": null,
      "outputs": []
    },
    {
      "cell_type": "markdown",
      "metadata": {
        "id": "lvKdYFN5lrX8",
        "colab_type": "text"
      },
      "source": [
        "## 06) Comparações -> IF / ELSE / ELIF\n",
        "\n",
        "Muitas vezes precisamos realizar comparações e para isso utilizamos o recurso IF."
      ]
    },
    {
      "cell_type": "markdown",
      "metadata": {
        "id": "VLC_6PYXlrX8",
        "colab_type": "text"
      },
      "source": [
        "Para utilizar o **if** precisamos colocar um booleano e dois pontos (:)"
      ]
    },
    {
      "cell_type": "code",
      "metadata": {
        "id": "SmJuGhmUlrX8",
        "colab_type": "code",
        "colab": {}
      },
      "source": [
        "numero = 3\n",
        "if numero > 2:\n",
        "    print('o número é maior que 2')"
      ],
      "execution_count": null,
      "outputs": []
    },
    {
      "cell_type": "markdown",
      "metadata": {
        "id": "3DM91eIRlrX-",
        "colab_type": "text"
      },
      "source": [
        "Note que abaixo do **if** existe um espaço onde o código será rodado."
      ]
    },
    {
      "cell_type": "markdown",
      "metadata": {
        "id": "ADwHNdA8lrX_",
        "colab_type": "text"
      },
      "source": [
        "Para utilizar o **else** não colocamos booleano, somente dois pontos (:)"
      ]
    },
    {
      "cell_type": "code",
      "metadata": {
        "id": "xZCdwvzUlrX_",
        "colab_type": "code",
        "colab": {}
      },
      "source": [
        "numero = 2\n",
        "if numero > 2:\n",
        "    print('o número é maior que 2')\n",
        "else:\n",
        "    print('o número é menor ou igual a 2')"
      ],
      "execution_count": null,
      "outputs": []
    },
    {
      "cell_type": "markdown",
      "metadata": {
        "id": "uSdHXVHklrYD",
        "colab_type": "text"
      },
      "source": [
        "Para utilizar o **elif**  precisamos colocar um booleano e dois pontos (:)"
      ]
    },
    {
      "cell_type": "code",
      "metadata": {
        "id": "l727XPAqlrYD",
        "colab_type": "code",
        "colab": {}
      },
      "source": [
        "numero = 1\n",
        "if numero > 2:\n",
        "    print('o número é maior que 2')\n",
        "elif numero < 2:\n",
        "    print('o número é menor que 2')"
      ],
      "execution_count": null,
      "outputs": []
    },
    {
      "cell_type": "markdown",
      "metadata": {
        "id": "z7xJZoXulrYI",
        "colab_type": "text"
      },
      "source": [
        "Ele irá entrar no primeiro que conseguir e não entrará nos demais."
      ]
    },
    {
      "cell_type": "code",
      "metadata": {
        "id": "tETKgElxlrYJ",
        "colab_type": "code",
        "colab": {}
      },
      "source": [
        "numero = 2\n",
        "if numero > 2:\n",
        "    print('o número é maior que 2')\n",
        "elif numero < 2:\n",
        "    print('o número é menor que 2')\n",
        "else:\n",
        "    print('o número não é maior nem menor que 2')"
      ],
      "execution_count": null,
      "outputs": []
    },
    {
      "cell_type": "markdown",
      "metadata": {
        "id": "roqqk_HZlrYL",
        "colab_type": "text"
      },
      "source": [
        "Exemplo para verificar se contem a letra 'a'"
      ]
    },
    {
      "cell_type": "code",
      "metadata": {
        "id": "hbuy1lMtlrYM",
        "colab_type": "code",
        "colab": {}
      },
      "source": [
        "texto = input('Insira um texto: ')\n",
        "if texto.count('a') > 0:\n",
        "    print('Esse texto contêm a letra a')"
      ],
      "execution_count": null,
      "outputs": []
    },
    {
      "cell_type": "markdown",
      "metadata": {
        "id": "gbQdkIHIlrYN",
        "colab_type": "text"
      },
      "source": [
        "Dois exemplos verificando se é inteiro."
      ]
    },
    {
      "cell_type": "code",
      "metadata": {
        "id": "NkdYEQW9lrYO",
        "colab_type": "code",
        "colab": {}
      },
      "source": [
        "variavel = 1.    # exemplo de inteiro\n",
        "\n",
        "if type(variavel) == int:\n",
        "    print('é um inteiro')\n",
        "else:\n",
        "    print('não é um inteiro')"
      ],
      "execution_count": null,
      "outputs": []
    },
    {
      "cell_type": "code",
      "metadata": {
        "id": "Fk3hTj5YlrYR",
        "colab_type": "code",
        "colab": {}
      },
      "source": [
        "variavel = 'a'    # exemplo de string\n",
        "\n",
        "if type(variavel) == int:\n",
        "    print('é um inteiro')\n",
        "else:\n",
        "    print('não é um inteiro')"
      ],
      "execution_count": null,
      "outputs": []
    },
    {
      "cell_type": "markdown",
      "metadata": {
        "id": "hC0zEEjblrYT",
        "colab_type": "text"
      },
      "source": [
        "Exemplo verificando qual é o tipo da variável, faça o exercício de alterar a variável para atingir todas as possibilidades."
      ]
    },
    {
      "cell_type": "code",
      "metadata": {
        "id": "yoL2lIpnlrYT",
        "colab_type": "code",
        "colab": {}
      },
      "source": [
        "variavel = True    # exemplo de booleano\n",
        "\n",
        "if type(variavel) == str:\n",
        "    print('é uma string')\n",
        "elif type(variavel) == int:\n",
        "    print('é um inteiro')\n",
        "elif type(variavel) == float:\n",
        "    print('é um numero real')\n",
        "elif type(variavel) == bool:\n",
        "    print('é um booleano')\n",
        "else:\n",
        "    print('não sei o que é')"
      ],
      "execution_count": null,
      "outputs": []
    },
    {
      "cell_type": "markdown",
      "metadata": {
        "id": "kTJlmE1MlrYV",
        "colab_type": "text"
      },
      "source": [
        "**Ex 27:** Escreva um código que:\n",
        "- Recebe um **input** de texto.\n",
        "- Mede o tamanho do texto e armazena em uma outra variável\n",
        "- Verifica se o tamanho é maior que 4, caso positivo amostra o tamanho dele.\n",
        "- Caso negativo amostra o próprio texto."
      ]
    },
    {
      "cell_type": "code",
      "metadata": {
        "id": "VWqu2QcJlrYV",
        "colab_type": "code",
        "colab": {}
      },
      "source": [
        ""
      ],
      "execution_count": null,
      "outputs": []
    }
  ]
}